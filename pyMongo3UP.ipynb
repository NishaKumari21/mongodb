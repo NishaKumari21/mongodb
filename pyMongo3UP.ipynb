{
 "cells": [
  {
   "cell_type": "code",
   "execution_count": 2,
   "metadata": {},
   "outputs": [],
   "source": [
    "import pymongo\n",
    "client=pymongo.MongoClient('mongodb://localhost:27017/')\n",
    "mydb=client['updatevalue']\n",
    "tools=mydb.tools\n"
   ]
  },
  {
   "cell_type": "code",
   "execution_count": null,
   "metadata": {},
   "outputs": [],
   "source": [
    "# # update_one()\n",
    "# update_many()\n",
    "# replace_one()"
   ]
  },
  {
   "cell_type": "code",
   "execution_count": 3,
   "metadata": {},
   "outputs": [
    {
     "name": "stdout",
     "output_type": "stream",
     "text": [
      "Data Inserted Successfully!\n"
     ]
    }
   ],
   "source": [
    "tools.insert_many([\n",
    "    {\n",
    "        \"item\": \"Canvas\",\n",
    "        \"qty\": 100,\n",
    "        \"size\": {\"h\": 28, \"w\": 35.5, \"uom\": \"cm\"},\n",
    "        \"status\": \"A\"\n",
    "    },\n",
    "    {\n",
    "        \"item\": \"Journal\",\n",
    "        \"qty\": 25,\n",
    "        \"size\": {\"h\": 14, \"w\": 21, \"uom\": \"cm\"},\n",
    "        \"status\": \"A\"\n",
    "    },\n",
    "    {\n",
    "        \"item\": \"Mat\",\n",
    "        \"qty\": 85,\n",
    "        \"size\": {\"h\": 27.9, \"w\": 35.5, \"uom\": \"cm\"},\n",
    "        \"status\": \"A\"\n",
    "    },\n",
    "    {\n",
    "        \"item\": \"Mousepad\",\n",
    "        \"qty\": 25,\n",
    "        \"size\": {\"h\": 19, \"w\": 22.85, \"uom\": \"cm\"},\n",
    "        \"status\": \"P\"\n",
    "    },\n",
    "    {\n",
    "        \"item\": \"Notebook\",\n",
    "        \"qty\": 50,\n",
    "        \"size\": {\"h\": 8.5, \"w\": 11, \"uom\": \"in\"},\n",
    "        \"status\": \"P\"\n",
    "    },\n",
    "    {\n",
    "        \"item\": \"Paper\",\n",
    "        \"qty\": 100,\n",
    "        \"size\": {\"h\": 8.5, \"w\": 11, \"uom\": \"in\"},\n",
    "        \"status\": \"D\"\n",
    "    }\n",
    "])\n",
    "\n",
    "print(\"Data Inserted Successfully!\")"
   ]
  },
  {
   "cell_type": "code",
   "execution_count": null,
   "metadata": {},
   "outputs": [
    {
     "data": {
      "text/plain": [
       "UpdateResult({'n': 1, 'nModified': 1, 'ok': 1.0, 'updatedExisting': True}, acknowledged=True)"
      ]
     },
     "execution_count": 4,
     "metadata": {},
     "output_type": "execute_result"
    }
   ],
   "source": [
    "# update_one\n",
    "# chose item where item :paper and change status=\"A\" which was \"D\"\n",
    "tools.update_one(\n",
    "   {\"item\":\"Paper\"} ,\n",
    "   {'$set':{'status':'A'}}\n",
    ")"
   ]
  },
  {
   "cell_type": "code",
   "execution_count": 9,
   "metadata": {},
   "outputs": [
    {
     "data": {
      "text/plain": [
       "UpdateResult({'n': 1, 'nModified': 1, 'ok': 1.0, 'updatedExisting': True}, acknowledged=True)"
      ]
     },
     "execution_count": 9,
     "metadata": {},
     "output_type": "execute_result"
    }
   ],
   "source": [
    "tools.update_one(\n",
    "{\"item\":\"Paper\"},\n",
    "{\"$set\":{\"size.unom\":\"m\",\"status\":\"p\"},\n",
    "\"$currentDate\":{\"lastModified\":True}}\n",
    "    \n",
    ")"
   ]
  },
  {
   "cell_type": "code",
   "execution_count": null,
   "metadata": {},
   "outputs": [],
   "source": [
    "\n",
    "# _id\n",
    "# 67e2b96d186db7bc6e02751d\n",
    "# item\n",
    "# \"Paper\"\n",
    "# qty\n",
    "# 100\n",
    "\n",
    "# size\n",
    "# Object\n",
    "# status\n",
    "# \"p\"\n",
    "# lastModified\n",
    "# 2025-03-25T14:16:28.699+00:00\n",
    "# output in mongodb compass changes after refresh"
   ]
  },
  {
   "cell_type": "code",
   "execution_count": 13,
   "metadata": {},
   "outputs": [
    {
     "data": {
      "text/plain": [
       "UpdateResult({'n': 2, 'nModified': 2, 'ok': 1.0, 'updatedExisting': True}, acknowledged=True)"
      ]
     },
     "execution_count": 13,
     "metadata": {},
     "output_type": "execute_result"
    }
   ],
   "source": [
    "tools.update_many(\n",
    "    {'qty':{'$lt':50}},\n",
    "    {'$set':{\"size.unom\":\"in\",\"status\":\"p\"},\n",
    "    \"$currentDate\":{\"lastModified\":True}}\n",
    ")"
   ]
  },
  {
   "cell_type": "code",
   "execution_count": 15,
   "metadata": {},
   "outputs": [
    {
     "data": {
      "text/plain": [
       "UpdateResult({'n': 0, 'nModified': 0, 'ok': 1.0, 'updatedExisting': False}, acknowledged=True)"
      ]
     },
     "execution_count": 15,
     "metadata": {},
     "output_type": "execute_result"
    }
   ],
   "source": [
    "tools.replace_one(\n",
    "    {\"item\":\"Paper\"},\n",
    "    {\"item\":\"sheet\",\n",
    "     \"instock\":[\n",
    "         {\"warehouse\":\"A\",\"qty\":60},\n",
    "         {\"warehouse\":\"B\",\"qty\":40}]})\n",
    "# paper item wla change hokr sheet wle mei replace hogya or uske andr wle data v change hogye jo instock wli chiz gyi h us se\n"
   ]
  },
  {
   "cell_type": "code",
   "execution_count": null,
   "metadata": {},
   "outputs": [],
   "source": []
  },
  {
   "cell_type": "code",
   "execution_count": null,
   "metadata": {},
   "outputs": [],
   "source": []
  }
 ],
 "metadata": {
  "kernelspec": {
   "display_name": "Python 3",
   "language": "python",
   "name": "python3"
  },
  "language_info": {
   "codemirror_mode": {
    "name": "ipython",
    "version": 3
   },
   "file_extension": ".py",
   "mimetype": "text/x-python",
   "name": "python",
   "nbconvert_exporter": "python",
   "pygments_lexer": "ipython3",
   "version": "3.12.2"
  }
 },
 "nbformat": 4,
 "nbformat_minor": 2
}
