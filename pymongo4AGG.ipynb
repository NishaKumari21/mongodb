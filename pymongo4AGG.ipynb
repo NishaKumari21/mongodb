{
 "cells": [
  {
   "cell_type": "code",
   "execution_count": null,
   "metadata": {},
   "outputs": [
    {
     "name": "stdout",
     "output_type": "stream",
     "text": [
      "Data Inserted Successfully!\n"
     ]
    }
   ],
   "source": [
    "from pymongo import MongoClient\n",
    "client = MongoClient()\n",
    "# creation of object mongoclient\n",
    "client = MongoClient(\"mongodb://localhost:27017/\")\n",
    "\n",
    "mydatabase = client[\"BacheDb\"]\n",
    "\n",
    "collection = mydatabase[\"studentscores\"]\n",
    "data = [\n",
    "    {\"user\": \"Krish\", \"subject\": \"Database\", \"score\": 80},\n",
    "    {\"user\": \"Amit\", \"subject\": \"JavaScript\", \"score\": 90},\n",
    "    {\"user\": \"Amit\", \"subject\": \"Database\", \"score\": 85},\n",
    "    {\"user\": \"Krish\", \"subject\": \"JavaScript\", \"score\": 75},\n",
    "    {\"user\": \"Amit\", \"subject\": \"Data Science\", \"score\": 60},\n",
    "    {\"user\": \"Krish\", \"subject\": \"Data Science\", \"score\": 95}\n",
    "]\n",
    "\n",
    "collection.insert_many(data)\n",
    "\n",
    "print(\"Data Inserted Successfully!\")\n"
   ]
  },
  {
   "cell_type": "code",
   "execution_count": null,
   "metadata": {},
   "outputs": [],
   "source": [
    "# avg\n",
    "# sum\n",
    "# aggregate functions\n",
    "# table ko collections bolte h mongodb mei\n",
    "# insert data krne se phle mongdb compass mei show nhi hoga db ya collections"
   ]
  },
  {
   "cell_type": "code",
   "execution_count": null,
   "metadata": {},
   "outputs": [
    {
     "name": "stdout",
     "output_type": "stream",
     "text": [
      "{'_id': 'Krish', 'Total Subject': 3}\n",
      "{'_id': 'Amit', 'Total Subject': 3}\n"
     ]
    }
   ],
   "source": [
    "# total no of records\n",
    "# to find total no of subjects AMit and Krishn has taken\n",
    "agg_result=collection.aggregate([\n",
    "    {\"$group\":\n",
    "     {\"_id\":\"$user\",\n",
    "      \"Total Subject\":{\"$sum\":1}}}\n",
    "])\n",
    "# column in mongodb compass which cannt be chnged\n",
    "for i in agg_result:\n",
    "    print(i)\n"
   ]
  },
  {
   "cell_type": "code",
   "execution_count": null,
   "metadata": {},
   "outputs": [
    {
     "name": "stdout",
     "output_type": "stream",
     "text": [
      "{'_id': 'Krish', 'Total Marks': 250}\n",
      "{'_id': 'Amit', 'Total Marks': 235}\n"
     ]
    }
   ],
   "source": [
    "# sum function\n",
    "agg_result=collection.aggregate(\n",
    "    [{\n",
    "        \"$group\":\n",
    "        {\"_id\":\"$user\",\n",
    "         \"Total Marks\":{\"$sum\":\"$score\"}}\n",
    "    }]\n",
    ")\n",
    "for i in agg_result:\n",
    "    print(i)\n",
    "    # $sum:inbuild function"
   ]
  },
  {
   "cell_type": "code",
   "execution_count": 5,
   "metadata": {},
   "outputs": [
    {
     "name": "stdout",
     "output_type": "stream",
     "text": [
      "{'_id': 'Amit', 'Total average': 78.33333333333333}\n",
      "{'_id': 'Krish', 'Total average': 83.33333333333333}\n"
     ]
    }
   ],
   "source": [
    "# avg score\n",
    "agg_result=collection.aggregate(\n",
    "    [{\n",
    "        \"$group\":\n",
    "        {\"_id\":\"$user\",\n",
    "         \"Total average\":{\"$avg\":\"$score\"}}\n",
    "    }]\n",
    ")\n",
    "for i in agg_result:\n",
    "    print(i)"
   ]
  },
  {
   "cell_type": "code",
   "execution_count": 8,
   "metadata": {},
   "outputs": [],
   "source": [
    "import datetime\n",
    "from datetime import datetime"
   ]
  },
  {
   "cell_type": "code",
   "execution_count": 9,
   "metadata": {},
   "outputs": [
    {
     "name": "stderr",
     "output_type": "stream",
     "text": [
      "C:\\Users\\HP\\AppData\\Local\\Temp\\ipykernel_17280\\3327056686.py:2: DeprecationWarning: datetime.datetime.utcnow() is deprecated and scheduled for removal in a future version. Use timezone-aware objects to represent datetimes in UTC: datetime.datetime.now(datetime.UTC).\n",
      "  {\"_id\": 1, \"item\": \"abc\", \"price\": 10, \"quantity\": 2, \"date\": datetime.utcnow()},\n",
      "C:\\Users\\HP\\AppData\\Local\\Temp\\ipykernel_17280\\3327056686.py:3: DeprecationWarning: datetime.datetime.utcnow() is deprecated and scheduled for removal in a future version. Use timezone-aware objects to represent datetimes in UTC: datetime.datetime.now(datetime.UTC).\n",
      "  {\"_id\": 2, \"item\": \"jkl\", \"price\": 20, \"quantity\": 1, \"date\": datetime.utcnow()},\n",
      "C:\\Users\\HP\\AppData\\Local\\Temp\\ipykernel_17280\\3327056686.py:4: DeprecationWarning: datetime.datetime.utcnow() is deprecated and scheduled for removal in a future version. Use timezone-aware objects to represent datetimes in UTC: datetime.datetime.now(datetime.UTC).\n",
      "  {\"_id\": 3, \"item\": \"xyz\", \"price\": 5, \"quantity\": 5, \"date\": datetime.utcnow()},\n",
      "C:\\Users\\HP\\AppData\\Local\\Temp\\ipykernel_17280\\3327056686.py:5: DeprecationWarning: datetime.datetime.utcnow() is deprecated and scheduled for removal in a future version. Use timezone-aware objects to represent datetimes in UTC: datetime.datetime.now(datetime.UTC).\n",
      "  {\"_id\": 4, \"item\": \"abc\", \"price\": 10, \"quantity\": 10, \"date\": datetime.utcnow()},\n",
      "C:\\Users\\HP\\AppData\\Local\\Temp\\ipykernel_17280\\3327056686.py:6: DeprecationWarning: datetime.datetime.utcnow() is deprecated and scheduled for removal in a future version. Use timezone-aware objects to represent datetimes in UTC: datetime.datetime.now(datetime.UTC).\n",
      "  {\"_id\": 5, \"item\": \"xyz\", \"price\": 5, \"quantity\": 10, \"date\": datetime.utcnow()}\n"
     ]
    }
   ],
   "source": [
    "data = [\n",
    "    {\"_id\": 1, \"item\": \"abc\", \"price\": 10, \"quantity\": 2, \"date\": datetime.utcnow()},\n",
    "    {\"_id\": 2, \"item\": \"jkl\", \"price\": 20, \"quantity\": 1, \"date\": datetime.utcnow()},\n",
    "    {\"_id\": 3, \"item\": \"xyz\", \"price\": 5, \"quantity\": 5, \"date\": datetime.utcnow()},\n",
    "    {\"_id\": 4, \"item\": \"abc\", \"price\": 10, \"quantity\": 10, \"date\": datetime.utcnow()},\n",
    "    {\"_id\": 5, \"item\": \"xyz\", \"price\": 5, \"quantity\": 10, \"date\": datetime.utcnow()}\n",
    "]\n"
   ]
  },
  {
   "cell_type": "code",
   "execution_count": 10,
   "metadata": {},
   "outputs": [
    {
     "data": {
      "text/plain": [
       "[{'_id': 1,\n",
       "  'item': 'abc',\n",
       "  'price': 10,\n",
       "  'quantity': 2,\n",
       "  'date': datetime.datetime(2025, 3, 25, 14, 53, 2, 606605)},\n",
       " {'_id': 2,\n",
       "  'item': 'jkl',\n",
       "  'price': 20,\n",
       "  'quantity': 1,\n",
       "  'date': datetime.datetime(2025, 3, 25, 14, 53, 2, 606605)},\n",
       " {'_id': 3,\n",
       "  'item': 'xyz',\n",
       "  'price': 5,\n",
       "  'quantity': 5,\n",
       "  'date': datetime.datetime(2025, 3, 25, 14, 53, 2, 606605)},\n",
       " {'_id': 4,\n",
       "  'item': 'abc',\n",
       "  'price': 10,\n",
       "  'quantity': 10,\n",
       "  'date': datetime.datetime(2025, 3, 25, 14, 53, 2, 606605)},\n",
       " {'_id': 5,\n",
       "  'item': 'xyz',\n",
       "  'price': 5,\n",
       "  'quantity': 10,\n",
       "  'date': datetime.datetime(2025, 3, 25, 14, 53, 2, 606605)}]"
      ]
     },
     "execution_count": 10,
     "metadata": {},
     "output_type": "execute_result"
    }
   ],
   "source": [
    "data"
   ]
  },
  {
   "cell_type": "code",
   "execution_count": 11,
   "metadata": {},
   "outputs": [
    {
     "data": {
      "text/plain": [
       "InsertManyResult([1, 2, 3, 4, 5], acknowledged=True)"
      ]
     },
     "execution_count": 11,
     "metadata": {},
     "output_type": "execute_result"
    }
   ],
   "source": [
    "mycollections=mydatabase['stores']\n",
    "mycollections.insert_many(data)"
   ]
  },
  {
   "cell_type": "code",
   "execution_count": 14,
   "metadata": {},
   "outputs": [
    {
     "name": "stdout",
     "output_type": "stream",
     "text": [
      "{'_id': 'abc', 'avgAmount': 60.0, 'avgQuantity': 6.0}\n",
      "{'_id': 'jkl', 'avgAmount': 20.0, 'avgQuantity': 1.0}\n",
      "{'_id': 'xyz', 'avgAmount': 37.5, 'avgQuantity': 7.5}\n"
     ]
    }
   ],
   "source": [
    "agg_result=mycollections.aggregate([\n",
    "    {\n",
    "        \"$group\":{\n",
    "            \"_id\":\"$item\",\n",
    "            \"avgAmount\":{\"$avg\":{\"$multiply\":[\"$price\",\"$quantity\"]}},\n",
    "            \"avgQuantity\":{\"$avg\":\"$quantity\"}\n",
    "        }\n",
    "    }\n",
    "    \n",
    "])\n",
    "for i in agg_result:\n",
    "    print(i)"
   ]
  },
  {
   "cell_type": "code",
   "execution_count": null,
   "metadata": {},
   "outputs": [],
   "source": []
  }
 ],
 "metadata": {
  "kernelspec": {
   "display_name": "Python 3",
   "language": "python",
   "name": "python3"
  },
  "language_info": {
   "codemirror_mode": {
    "name": "ipython",
    "version": 3
   },
   "file_extension": ".py",
   "mimetype": "text/x-python",
   "name": "python",
   "nbconvert_exporter": "python",
   "pygments_lexer": "ipython3",
   "version": "3.12.2"
  }
 },
 "nbformat": 4,
 "nbformat_minor": 2
}
