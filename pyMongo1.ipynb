{
 "cells": [
  {
   "cell_type": "code",
   "execution_count": 15,
   "metadata": {},
   "outputs": [
    {
     "name": "stdout",
     "output_type": "stream",
     "text": [
      "Connected to MongoDB Successfully!\n"
     ]
    }
   ],
   "source": [
    "import pymongo\n",
    "\n",
    "# Connect to MongoDB (Localhost)\n",
    "client = pymongo.MongoClient(\"mongodb://localhost:27017/\")\n",
    "\n",
    "# Create/Select Database\n",
    "db = client[\"mydatabase1\"]\n",
    "\n",
    "# Create/Select Collection (Table)\n",
    "collection = db[\"person\"]\n",
    "\n",
    "print(\"Connected to MongoDB Successfully!\")\n"
   ]
  },
  {
   "cell_type": "code",
   "execution_count": 16,
   "metadata": {},
   "outputs": [
    {
     "name": "stdout",
     "output_type": "stream",
     "text": [
      "Data Inserted Successfully!\n"
     ]
    }
   ],
   "source": [
    "#  4. Insert Data into MongoDB from Python\n",
    "# single value insert\n",
    "person = {\"name\": \"Hemu\", \"age\": 21, \"course\": \"AI & ML\"}\n",
    "collection.insert_one(person)\n",
    "\n",
    "print(\"Data Inserted Successfully!\")\n"
   ]
  },
  {
   "cell_type": "code",
   "execution_count": 17,
   "metadata": {},
   "outputs": [
    {
     "name": "stdout",
     "output_type": "stream",
     "text": [
      "Multiple Data Inserted Successfully!\n"
     ]
    }
   ],
   "source": [
    "# multiple value insertion\n",
    "person = [\n",
    "    {\"name\": \"Nisha\", \"age\": 21, \"course\": \"AI & ML\"},\n",
    "    {\"name\": \"Rohit\", \"age\": 22, \"course\": \"Data Science\"},\n",
    "    {\"name\": \"Priya\", \"age\": 20, \"course\": \"Python Development\"}\n",
    "]\n",
    "collection.insert_many(person)\n",
    "\n",
    "print(\"Multiple Data Inserted Successfully!\")\n"
   ]
  },
  {
   "cell_type": "code",
   "execution_count": 18,
   "metadata": {},
   "outputs": [
    {
     "name": "stdout",
     "output_type": "stream",
     "text": [
      "{'_id': ObjectId('67e193d450a652c69a08aeaf'), 'name': 'Hemu', 'age': 21, 'course': 'AI & ML'}\n",
      "{'_id': ObjectId('67e193de50a652c69a08aeb0'), 'name': 'Nisha', 'age': 21, 'course': 'AI & ML'}\n",
      "{'_id': ObjectId('67e193de50a652c69a08aeb1'), 'name': 'Rohit', 'age': 22, 'course': 'Data Science'}\n",
      "{'_id': ObjectId('67e193de50a652c69a08aeb2'), 'name': 'Priya', 'age': 20, 'course': 'Python Development'}\n"
     ]
    }
   ],
   "source": [
    "# 5. Retrieve Data from MongoDB\n",
    "for person in collection.find():\n",
    "    print(person)"
   ]
  },
  {
   "cell_type": "code",
   "execution_count": 5,
   "metadata": {},
   "outputs": [
    {
     "name": "stdout",
     "output_type": "stream",
     "text": [
      "{'_id': ObjectId('67e1937950a652c69a08aeaa'), 'name': 'Nisha', 'age': 21, 'course': 'AI & ML'}\n"
     ]
    }
   ],
   "source": [
    "# Find Specific Data (With Filter)\n",
    "result = collection.find_one({\"name\": \"Nisha\"})\n",
    "print(result)"
   ]
  },
  {
   "cell_type": "code",
   "execution_count": 6,
   "metadata": {},
   "outputs": [
    {
     "name": "stdout",
     "output_type": "stream",
     "text": [
      "Data Updated Successfully!\n"
     ]
    }
   ],
   "source": [
    "# 6. Update Data in MongoDB\n",
    "collection.update_one({\"name\": \"Nisha\"}, {\"$set\": {\"age\": 22}})\n",
    "print(\"Data Updated Successfully!\")\n"
   ]
  },
  {
   "cell_type": "code",
   "execution_count": 7,
   "metadata": {},
   "outputs": [
    {
     "name": "stdout",
     "output_type": "stream",
     "text": [
      "Multiple Data Updated Successfully!\n"
     ]
    }
   ],
   "source": [
    "# Update Multiple Documents\n",
    "collection.update_many({\"course\": \"AI & ML\"}, {\"$set\": {\"course\": \"Machine Learning\"}})\n",
    "print(\"Multiple Data Updated Successfully!\")"
   ]
  },
  {
   "cell_type": "code",
   "execution_count": 8,
   "metadata": {},
   "outputs": [
    {
     "name": "stdout",
     "output_type": "stream",
     "text": [
      "Data Deleted Successfully!\n"
     ]
    }
   ],
   "source": [
    "# Delete One Document\n",
    "\n",
    "collection.delete_one({\"name\": \"Nisha\"})\n",
    "print(\"Data Deleted Successfully!\")"
   ]
  },
  {
   "cell_type": "code",
   "execution_count": 9,
   "metadata": {},
   "outputs": [
    {
     "name": "stdout",
     "output_type": "stream",
     "text": [
      "Multiple Data Deleted Successfully!\n"
     ]
    }
   ],
   "source": [
    "# Delete Multiple Documents\n",
    "collection.delete_many({\"course\": \"Machine Learning\"})\n",
    "print(\"Multiple Data Deleted Successfully!\")\n"
   ]
  },
  {
   "cell_type": "code",
   "execution_count": 10,
   "metadata": {},
   "outputs": [
    {
     "name": "stdout",
     "output_type": "stream",
     "text": [
      "All Data Deleted Successfully!\n"
     ]
    }
   ],
   "source": [
    "# Delete All Documents (Empty Collection)\n",
    "collection.delete_many({})\n",
    "print(\"All Data Deleted Successfully!\")"
   ]
  },
  {
   "cell_type": "code",
   "execution_count": 11,
   "metadata": {},
   "outputs": [
    {
     "name": "stdout",
     "output_type": "stream",
     "text": [
      "['admin', 'config', 'employee', 'local', 'mydatabase', 'mydatabase1']\n"
     ]
    }
   ],
   "source": [
    "# List All Databases & Collections\n",
    "print(client.list_database_names())\n"
   ]
  },
  {
   "cell_type": "code",
   "execution_count": 12,
   "metadata": {},
   "outputs": [
    {
     "name": "stdout",
     "output_type": "stream",
     "text": [
      "['Person']\n"
     ]
    }
   ],
   "source": [
    "# List All Collections\n",
    "\n",
    "print(db.list_collection_names())"
   ]
  },
  {
   "cell_type": "code",
   "execution_count": 13,
   "metadata": {},
   "outputs": [],
   "source": [
    "client.close()"
   ]
  },
  {
   "cell_type": "code",
   "execution_count": null,
   "metadata": {},
   "outputs": [],
   "source": []
  }
 ],
 "metadata": {
  "kernelspec": {
   "display_name": "Python 3",
   "language": "python",
   "name": "python3"
  },
  "language_info": {
   "codemirror_mode": {
    "name": "ipython",
    "version": 3
   },
   "file_extension": ".py",
   "mimetype": "text/x-python",
   "name": "python",
   "nbconvert_exporter": "python",
   "pygments_lexer": "ipython3",
   "version": "3.12.2"
  }
 },
 "nbformat": 4,
 "nbformat_minor": 2
}
