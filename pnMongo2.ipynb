{
 "cells": [
  {
   "cell_type": "code",
   "execution_count": 1,
   "metadata": {},
   "outputs": [],
   "source": [
    "import pymongo\n",
    "client=pymongo.MongoClient('mongodb://localhost:27017/')\n",
    "mydb=client['worker']\n",
    "empinfo=mydb.employeeinformation"
   ]
  },
  {
   "cell_type": "code",
   "execution_count": 2,
   "metadata": {},
   "outputs": [
    {
     "data": {
      "text/plain": [
       "InsertOneResult(ObjectId('67e2b4042521b1b0765abd94'), acknowledged=True)"
      ]
     },
     "execution_count": 2,
     "metadata": {},
     "output_type": "execute_result"
    }
   ],
   "source": [
    "record={\n",
    "    'firstname':'nisha',\n",
    "    'lastname':'kumari',\n",
    "    'age':22,\n",
    "    'designation':'software engineer'\n",
    "}\n",
    "empinfo.insert_one(record)"
   ]
  },
  {
   "cell_type": "code",
   "execution_count": 3,
   "metadata": {},
   "outputs": [
    {
     "data": {
      "text/plain": [
       "InsertManyResult([ObjectId('67e2b4082521b1b0765abd95'), ObjectId('67e2b4082521b1b0765abd96'), ObjectId('67e2b4082521b1b0765abd97')], acknowledged=True)"
      ]
     },
     "execution_count": 3,
     "metadata": {},
     "output_type": "execute_result"
    }
   ],
   "source": [
    "records=[{\n",
    "    'firstname':'Rohit',\n",
    "    'lastname':'Sharma',\n",
    "    'age':23,\n",
    "    'designation':'data analyst'\n",
    "},\n",
    "    {\n",
    "    'firstname':'Priya',\n",
    "    'lastname':'Shah',\n",
    "    'age':21,\n",
    "    'designation':'project manager'},\n",
    "    {\n",
    "    'firstname':'Vishal',\n",
    "    'lastname':'Sharma',\n",
    "    'age':24,\n",
    "    'designation':'software engineer'}]\n",
    "\n",
    "empinfo.insert_many(records)"
   ]
  },
  {
   "cell_type": "code",
   "execution_count": null,
   "metadata": {},
   "outputs": [
    {
     "data": {
      "text/plain": [
       "{'_id': ObjectId('67e2b4042521b1b0765abd94'),\n",
       " 'firstname': 'nisha',\n",
       " 'lastname': 'kumari',\n",
       " 'age': 22,\n",
       " 'designation': 'software engineer'}"
      ]
     },
     "execution_count": 4,
     "metadata": {},
     "output_type": "execute_result"
    }
   ],
   "source": [
    "# simple way of query\n",
    "empinfo.find_one()\n",
    "# by default first record"
   ]
  },
  {
   "cell_type": "code",
   "execution_count": null,
   "metadata": {},
   "outputs": [
    {
     "data": {
      "text/plain": [
       "<pymongo.cursor.Cursor at 0x2d56129ff80>"
      ]
     },
     "execution_count": 6,
     "metadata": {},
     "output_type": "execute_result"
    }
   ],
   "source": [
    "empinfo.find()\n",
    "# select*from emplyinformation"
   ]
  },
  {
   "cell_type": "code",
   "execution_count": 7,
   "metadata": {},
   "outputs": [
    {
     "name": "stdout",
     "output_type": "stream",
     "text": [
      "{'_id': ObjectId('67e2b4042521b1b0765abd94'), 'firstname': 'nisha', 'lastname': 'kumari', 'age': 22, 'designation': 'software engineer'}\n",
      "{'_id': ObjectId('67e2b4082521b1b0765abd95'), 'firstname': 'Rohit', 'lastname': 'Sharma', 'age': 23, 'designation': 'data analyst'}\n",
      "{'_id': ObjectId('67e2b4082521b1b0765abd96'), 'firstname': 'Priya', 'lastname': 'Shah', 'age': 21, 'designation': 'project manager'}\n",
      "{'_id': ObjectId('67e2b4082521b1b0765abd97'), 'firstname': 'Vishal', 'lastname': 'Sharma', 'age': 24, 'designation': 'software engineer'}\n"
     ]
    }
   ],
   "source": [
    "for record in empinfo.find():\n",
    "    print(record)"
   ]
  },
  {
   "cell_type": "code",
   "execution_count": 8,
   "metadata": {},
   "outputs": [
    {
     "name": "stdout",
     "output_type": "stream",
     "text": [
      "{'_id': ObjectId('67e2b4042521b1b0765abd94'), 'firstname': 'nisha', 'lastname': 'kumari', 'age': 22, 'designation': 'software engineer'}\n"
     ]
    }
   ],
   "source": [
    "# query json document based on equality conditons i.e seleect * from employeeinfromation where name=\"nisha\"\n",
    "for record in empinfo.find({'firstname':'nisha'}):\n",
    "    print(record)"
   ]
  },
  {
   "cell_type": "code",
   "execution_count": null,
   "metadata": {},
   "outputs": [
    {
     "name": "stdout",
     "output_type": "stream",
     "text": [
      "{'_id': ObjectId('67e2b4042521b1b0765abd94'), 'firstname': 'nisha', 'lastname': 'kumari', 'age': 22, 'designation': 'software engineer'}\n",
      "{'_id': ObjectId('67e2b4082521b1b0765abd95'), 'firstname': 'Rohit', 'lastname': 'Sharma', 'age': 23, 'designation': 'data analyst'}\n",
      "{'_id': ObjectId('67e2b4082521b1b0765abd97'), 'firstname': 'Vishal', 'lastname': 'Sharma', 'age': 24, 'designation': 'software engineer'}\n"
     ]
    }
   ],
   "source": [
    "# query document using query operation($in,$lt,$gt)\n",
    "# $in means desgination software engineer ho ya data anaylst wla record print krke do\n",
    "for record in empinfo.find({'designation':{'$in':['software engineer','data analyst']}}):\n",
    "        print(record)"
   ]
  },
  {
   "cell_type": "code",
   "execution_count": null,
   "metadata": {},
   "outputs": [
    {
     "name": "stdout",
     "output_type": "stream",
     "text": [
      "{'_id': ObjectId('67e2b4042521b1b0765abd94'), 'firstname': 'nisha', 'lastname': 'kumari', 'age': 22, 'designation': 'software engineer'}\n"
     ]
    }
   ],
   "source": [
    "# and operator\n",
    "for record in empinfo.find({'designation':'software engineer','age':{'$lt':23}}):\n",
    "    print(record)"
   ]
  },
  {
   "cell_type": "code",
   "execution_count": 17,
   "metadata": {},
   "outputs": [
    {
     "name": "stdout",
     "output_type": "stream",
     "text": [
      "{'_id': ObjectId('67e2b4042521b1b0765abd94'), 'firstname': 'nisha', 'lastname': 'kumari', 'age': 22, 'designation': 'software engineer'}\n",
      "{'_id': ObjectId('67e2b4082521b1b0765abd95'), 'firstname': 'Rohit', 'lastname': 'Sharma', 'age': 23, 'designation': 'data analyst'}\n",
      "{'_id': ObjectId('67e2b4082521b1b0765abd97'), 'firstname': 'Vishal', 'lastname': 'Sharma', 'age': 24, 'designation': 'software engineer'}\n"
     ]
    }
   ],
   "source": [
    "# or operator\n",
    "for record in empinfo.find({'$or':[{'firstname':'nisha'},{'lastname':'Sharma'}]}):\n",
    "    print(record)"
   ]
  },
  {
   "cell_type": "code",
   "execution_count": 18,
   "metadata": {},
   "outputs": [],
   "source": [
    "inventory=mydb.inventory"
   ]
  },
  {
   "cell_type": "code",
   "execution_count": 19,
   "metadata": {},
   "outputs": [
    {
     "data": {
      "text/plain": [
       "InsertManyResult([ObjectId('67e2b7da2521b1b0765abd98'), ObjectId('67e2b7da2521b1b0765abd99'), ObjectId('67e2b7da2521b1b0765abd9a'), ObjectId('67e2b7da2521b1b0765abd9b'), ObjectId('67e2b7da2521b1b0765abd9c')], acknowledged=True)"
      ]
     },
     "execution_count": 19,
     "metadata": {},
     "output_type": "execute_result"
    }
   ],
   "source": [
    "inventory.insert_many([\n",
    "    {\"item\": \"journal\", \"qty\": 25, \"size\": { \"h\": 14, \"w\": 21, \"uom\": \"cm\" }},\n",
    "    {\"item\": \"notebook\", \"qty\": 50, \"size\": { \"h\": 8.5, \"w\": 11, \"uom\": \"in\" }},\n",
    "    {\"item\": \"paper\", \"qty\": 100, \"size\": { \"h\": 10, \"w\": 13, \"uom\": \"cm\" }},\n",
    "    {\"item\": \"planner\", \"qty\": 75, \"size\": { \"h\": 22.85, \"w\": 30, \"uom\": \"cm\" }},\n",
    "    {\"item\": \"postcard\", \"qty\": 45, \"size\": { \"h\": 10, \"w\": 15.25, \"uom\": \"cm\" }}\n",
    "])"
   ]
  },
  {
   "cell_type": "code",
   "execution_count": 21,
   "metadata": {},
   "outputs": [
    {
     "name": "stdout",
     "output_type": "stream",
     "text": [
      "{'_id': ObjectId('67e2b7da2521b1b0765abd98'), 'item': 'journal', 'qty': 25, 'size': {'h': 14, 'w': 21, 'uom': 'cm'}}\n"
     ]
    }
   ],
   "source": [
    "for record in inventory.find({'size':{ \"h\": 14, \"w\": 21, \"uom\": \"cm\" }}):\n",
    "    print(record)"
   ]
  },
  {
   "cell_type": "code",
   "execution_count": null,
   "metadata": {},
   "outputs": [],
   "source": []
  }
 ],
 "metadata": {
  "kernelspec": {
   "display_name": "Python 3",
   "language": "python",
   "name": "python3"
  },
  "language_info": {
   "codemirror_mode": {
    "name": "ipython",
    "version": 3
   },
   "file_extension": ".py",
   "mimetype": "text/x-python",
   "name": "python",
   "nbconvert_exporter": "python",
   "pygments_lexer": "ipython3",
   "version": "3.12.2"
  }
 },
 "nbformat": 4,
 "nbformat_minor": 2
}
